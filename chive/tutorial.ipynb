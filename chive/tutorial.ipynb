{
 "cells": [
  {
   "cell_type": "code",
   "execution_count": null,
   "source": [
    "# \n",
    "# Copyright (C) 2019-2021 vdaas.org vald team <vald@vdaas.org>\n",
    "# \n",
    "# Licensed under the Apache License, Version 2.0 (the \"License\");\n",
    "# you may not use this file except in compliance with the License.\n",
    "# You may obtain a copy of the License at\n",
    "# \n",
    "#     https://www.apache.org/licenses/LICENSE-2.0\n",
    "# \n",
    "# Unless required by applicable law or agreed to in writing, software\n",
    "# distributed under the License is distributed on an \"AS IS\" BASIS,\n",
    "# WITHOUT WARRANTIES OR CONDITIONS OF ANY KIND, either express or implied.\n",
    "# See the License for the specific language governing permissions and\n",
    "# limitations under the License.\n",
    "# "
   ],
   "outputs": [],
   "metadata": {}
  },
  {
   "cell_type": "markdown",
   "source": [
    "# Vald Similarity Search using chiVe Dataset"
   ],
   "metadata": {}
  },
  {
   "cell_type": "markdown",
   "source": [
    "---\n",
    "※***このnotebookは, 既に[Get Started](https://vald.vdaas.org/docs/tutorial/get-started/)を完了し, Valdの環境構築が完了した方を対象としています.  \n",
    "まだValdの環境構築がお済みでない方は, 先に[Get Started](https://vald.vdaas.org/docs/tutorial/get-started/)を行うことを推奨します.  \n",
    "また, データセットとしてchiVeを利用する場合, Vald Agentのdimensionを300に, distance_typeをcosineにすることを推奨するため, [sample-values.yaml](https://github.com/vdaas/vald-demo/blob/main/chive/sample-values.yaml)を用いる or 値を修正したvalues.yamlを用いてValdの構築を行ってください.***  \n",
    "- *dimension: 300, distance_type: consieの修正例 ([path/to/helm/values.yaml](https://github.com/vdaas/vald/blob/main/example/helm/values.yaml#L45-L49))*:\n",
    "```yaml\n",
    "agent:\n",
    "  ngt:\n",
    "    dimension: 300\n",
    "    distance_type: cos\n",
    "```\n",
    "---"
   ],
   "metadata": {}
  },
  {
   "cell_type": "markdown",
   "source": [
    "このnotebookの目的は, vald-python-clientを通じて, Valdの基礎的な動作であるInsert/Search/Update/Removeを体験し, 近似近傍探索を用いた検索の一例を体験することです.  \n",
    "今回, 検索を行うためのデータセットとして, 日本語単語ベクトルのデータセットである[chiVe](https://github.com/WorksApplications/chiVe)を利用しています.\n",
    "\n",
    "notebookの概要は以下の通りです:\n",
    "- Preprocess\n",
    "  - Install packages\n",
    "  - Import dependencies\n",
    "  - Prepare the vector data with chiVe\n",
    "- Similarity Search with vald-client-python\n",
    "  - Create gRPC channel\n",
    "  - Insert/Search/Update/Remove\n",
    "- Advanced\n",
    "  - Word Analogies\n",
    "  \n",
    "それでは, Valdを利用した近似近傍探索による検索を体験してみましょう!!"
   ],
   "metadata": {}
  },
  {
   "cell_type": "markdown",
   "source": [
    "---"
   ],
   "metadata": {}
  },
  {
   "cell_type": "markdown",
   "source": [
    "## Preprocess"
   ],
   "metadata": {}
  },
  {
   "cell_type": "markdown",
   "source": [
    "Valdを利用するにあたって必要なパッケージやベクトルデータを準備します."
   ],
   "metadata": {}
  },
  {
   "cell_type": "markdown",
   "source": [
    "### Install packages"
   ],
   "metadata": {}
  },
  {
   "cell_type": "markdown",
   "source": [
    "※*動作環境に応じてパッケージのインストールを行ってください.*"
   ],
   "metadata": {}
  },
  {
   "cell_type": "code",
   "execution_count": null,
   "source": [
    "!sudo apt-get update -y && sudo apt-get install -y g++"
   ],
   "outputs": [],
   "metadata": {}
  },
  {
   "cell_type": "code",
   "execution_count": null,
   "source": [
    "!pip install --upgrade pymagnitude vald-client-python protobuf"
   ],
   "outputs": [],
   "metadata": {}
  },
  {
   "cell_type": "markdown",
   "source": [
    "### Import dependencies"
   ],
   "metadata": {}
  },
  {
   "cell_type": "markdown",
   "source": [
    "notebookを実行するに当たり, 必要なパッケージをインポートします."
   ],
   "metadata": {}
  },
  {
   "cell_type": "code",
   "execution_count": null,
   "source": [
    "import grpc\n",
    "import io\n",
    "import os\n",
    "import pandas as pd\n",
    "\n",
    "from pymagnitude import Magnitude\n",
    "from tqdm.notebook import tqdm\n",
    "from vald.v1.payload import payload_pb2\n",
    "from vald.v1.vald import (insert_pb2_grpc,\n",
    "                          object_pb2_grpc,\n",
    "                          remove_pb2_grpc,\n",
    "                          search_pb2_grpc,\n",
    "                          update_pb2_grpc)"
   ],
   "outputs": [],
   "metadata": {}
  },
  {
   "cell_type": "markdown",
   "source": [
    "### Prepare the vector data with [chiVe](https://github.com/WorksApplications/chiVe)"
   ],
   "metadata": {}
  },
  {
   "cell_type": "markdown",
   "source": [
    "このnotebookでは, 日本語単語ベクトルとして[chiVe](https://github.com/WorksApplications/chiVe)を用いるため, 予め必要なデータをダウンロードしておくことを推奨します.\n",
    "```\n",
    "curl \"https://sudachi.s3-ap-northeast-1.amazonaws.com/chive/chive-1.2-mc90.magnitude\" -o \"chive-1.2-mc90.magnitude\"\n",
    "```"
   ],
   "metadata": {}
  },
  {
   "cell_type": "markdown",
   "source": [
    "データを読み込み, サンプルとなるクエリを用いてベクトルを表示します."
   ],
   "metadata": {}
  },
  {
   "cell_type": "code",
   "execution_count": null,
   "source": [
    "# NOTE: \"___\" -> \"/path/to/chive-1.2-mc90.magnitude\"\n",
    "vectors = Magnitude(\"___\")\n",
    "\"テスト\" in vectors, vectors.query(\"テスト\")"
   ],
   "outputs": [],
   "metadata": {}
  },
  {
   "cell_type": "markdown",
   "source": [
    "---"
   ],
   "metadata": {}
  },
  {
   "cell_type": "markdown",
   "source": [
    "## Similarity Search with vald-client-python"
   ],
   "metadata": {}
  },
  {
   "cell_type": "markdown",
   "source": [
    "Valdの基礎的な動作であるInsert/Search/Update/Removeを実行すると共に, 前項で準備したベクトルデータを用いて近似近傍探索による検索を行います."
   ],
   "metadata": {}
  },
  {
   "cell_type": "markdown",
   "source": [
    "### Create gRPC channel"
   ],
   "metadata": {}
  },
  {
   "cell_type": "markdown",
   "source": [
    "gRPCによる通信を行うため, Valdが動作している各環境に応じて, 必要なエンドポイントを記述し, channelを作成します."
   ],
   "metadata": {}
  },
  {
   "cell_type": "code",
   "execution_count": null,
   "source": [
    "# NOTE: \"___\" -> \"{host}:{port}\"\n",
    "channel = grpc.insecure_channel(\"___\")"
   ],
   "outputs": [],
   "metadata": {}
  },
  {
   "cell_type": "markdown",
   "source": [
    "### Insert"
   ],
   "metadata": {}
  },
  {
   "cell_type": "markdown",
   "source": [
    "初めに, Valdにデータを入れるため, Insertを行います.  \n",
    "Insertを行うため, 先程作成したchannelを用いてInsert用のstubを作成します."
   ],
   "metadata": {}
  },
  {
   "cell_type": "code",
   "execution_count": null,
   "source": [
    "# create stub\n",
    "istub = insert_pb2_grpc.InsertStub(channel)"
   ],
   "outputs": [],
   "metadata": {}
  },
  {
   "cell_type": "markdown",
   "source": [
    "次に, Insert命令を用いてValdにデータ(id=\"test\")を1件Insertし, 正常に動作が完了するか確認します."
   ],
   "metadata": {}
  },
  {
   "cell_type": "code",
   "execution_count": null,
   "source": [
    "ivec = payload_pb2.Object.Vector(id=\"test\", vector=vectors.query(\"テスト\"))\n",
    "icfg = payload_pb2.Insert.Config(skip_strict_exist_check=True)\n",
    "ireq = payload_pb2.Insert.Request(vector=ivec, config=icfg)\n",
    "\n",
    "istub.Insert(ireq)"
   ],
   "outputs": [],
   "metadata": {}
  },
  {
   "cell_type": "markdown",
   "source": [
    "1件のデータ(id=\"test\")のInsertの動作確認が完了次第, 100,000件のデータをValdにInsertします.  \n",
    "ここで, Insertの時間短縮のため, 複数のデータを用いてInsertを行うMultiInsertを使用しています."
   ],
   "metadata": {}
  },
  {
   "cell_type": "code",
   "execution_count": null,
   "source": [
    "# Insert 100*1000 vector\n",
    "count = 100\n",
    "length = 1000\n",
    "\n",
    "for c in tqdm(range(count)):\n",
    "    ireqs = []\n",
    "    for key, vec in vectors[c*length:(c+1)*length]:\n",
    "        ivec = payload_pb2.Object.Vector(id=key, vector=vec)\n",
    "        icfg = payload_pb2.Insert.Config(skip_strict_exist_check=True)\n",
    "        ireq = payload_pb2.Insert.Request(vector=ivec, config=icfg)\n",
    "        ireqs.append(ireq)    \n",
    "    imreq = payload_pb2.Insert.MultiRequest(requests=ireqs)\n",
    "    istub.MultiInsert(imreq)"
   ],
   "outputs": [],
   "metadata": {}
  },
  {
   "cell_type": "markdown",
   "source": [
    "### Search"
   ],
   "metadata": {}
  },
  {
   "cell_type": "markdown",
   "source": [
    "次に, 先程Insertしたデータを使用してSearchを行います.  \n",
    "Insert時と同様, Search用のstubを作成します."
   ],
   "metadata": {}
  },
  {
   "cell_type": "code",
   "execution_count": null,
   "source": [
    "# create stub\n",
    "sstub = search_pb2_grpc.SearchStub(channel)"
   ],
   "outputs": [],
   "metadata": {}
  },
  {
   "cell_type": "markdown",
   "source": [
    "SearchのRequestを作成し, stubを用いて, __\"テスト\"__に類似したテキストを検索します.\n",
    "\n",
    "※*検索結果が0件または極端に少ない場合, Valdの自動Indexingにより検索結果が返却されていない可能性があるため, Indexing完了のため数秒待機し, 再度Searchを行ってください.*"
   ],
   "metadata": {}
  },
  {
   "cell_type": "code",
   "execution_count": null,
   "source": [
    "svec = vectors.query(\"テスト\")\n",
    "scfg = payload_pb2.Search.Config(num=10, radius=-1.0, epsilon=0.01, timeout=3000000000)\n",
    "sreq = payload_pb2.Search.Request(vector=svec, config=scfg)\n",
    "\n",
    "response = sstub.Search(sreq)\n",
    "pd.DataFrame(\n",
    "    [(result.id, result.distance) for result in response.results],\n",
    "    columns=[\"id\", \"distance\"])"
   ],
   "outputs": [],
   "metadata": {}
  },
  {
   "cell_type": "markdown",
   "source": [
    "また, Valdは既に入力済みのデータに対して, idに紐づくベクトルを用いて検索を行うSearch By IDにも対応しています.  \n",
    "以下で, 既にInsert済みのid=\"test\"に紐づくベクトルを使用し, 近似近傍探索による検索を行います."
   ],
   "metadata": {}
  },
  {
   "cell_type": "code",
   "execution_count": null,
   "source": [
    "# Search By ID\n",
    "sireq = payload_pb2.Search.IDRequest(id=\"test\",config=scfg)\n",
    "\n",
    "response = sstub.SearchByID(sireq)\n",
    "pd.DataFrame(\n",
    "    [(result.id, result.distance) for result in response.results],\n",
    "    columns=[\"id\", \"distance\"])"
   ],
   "outputs": [],
   "metadata": {}
  },
  {
   "cell_type": "markdown",
   "source": [
    "### Update"
   ],
   "metadata": {}
  },
  {
   "cell_type": "markdown",
   "source": [
    "ここでは, idに紐づくInsert済みのデータを更新するUpdateを行います.  \n",
    "Updateを行うため, 同様にstubを作成します."
   ],
   "metadata": {}
  },
  {
   "cell_type": "code",
   "execution_count": null,
   "source": [
    "# create stub\n",
    "ustub = update_pb2_grpc.UpdateStub(channel)"
   ],
   "outputs": [],
   "metadata": {}
  },
  {
   "cell_type": "markdown",
   "source": [
    "id=\"test\"に紐づくデータを__\"テスト\"__から__\"test\"__のベクトルに更新します."
   ],
   "metadata": {}
  },
  {
   "cell_type": "code",
   "execution_count": null,
   "source": [
    "uvec = payload_pb2.Object.Vector(id=\"test\", vector=vectors.query(\"test\"))\n",
    "ucfg = payload_pb2.Update.Config(skip_strict_exist_check=True)\n",
    "ureq = payload_pb2.Update.Request(vector=uvec, config=ucfg)\n",
    "\n",
    "ustub.Update(ureq)"
   ],
   "outputs": [],
   "metadata": {}
  },
  {
   "cell_type": "markdown",
   "source": [
    "Updateの確認のため, id=\"test\"に紐づくデータに対して検索を行い, __\"テスト\"__の結果と異なることを確認します.\n",
    "\n",
    "※*Insert済みのデータによっては, 同様の結果となる場合もあります.*  \n",
    "※*Searchの際と同様に, Indexingなどのタイミングによっては値が変更されていない可能性があるため, 時間をおいて再度検索を行ってください.*"
   ],
   "metadata": {}
  },
  {
   "cell_type": "code",
   "execution_count": null,
   "source": [
    "# Search By ID\n",
    "sireq = payload_pb2.Search.IDRequest(id=\"test\", config=scfg)\n",
    "\n",
    "response = sstub.SearchByID(sireq)\n",
    "pd.DataFrame(\n",
    "    [(result.id, result.distance) for result in response.results],\n",
    "    columns=[\"id\", \"distance\"])"
   ],
   "outputs": [],
   "metadata": {}
  },
  {
   "cell_type": "markdown",
   "source": [
    "### Remove"
   ],
   "metadata": {}
  },
  {
   "cell_type": "markdown",
   "source": [
    "最後に, 入力されたデータを削除するRemoveを行います.  \n",
    "Remove用のstubを作成します."
   ],
   "metadata": {}
  },
  {
   "cell_type": "code",
   "execution_count": null,
   "source": [
    "# create stub\n",
    "rstub = remove_pb2_grpc.RemoveStub(channel)"
   ],
   "outputs": [],
   "metadata": {}
  },
  {
   "cell_type": "markdown",
   "source": [
    "id=\"test\"に紐づくデータを削除します."
   ],
   "metadata": {}
  },
  {
   "cell_type": "code",
   "execution_count": null,
   "source": [
    "rid = payload_pb2.Object.ID(id=\"test\")\n",
    "rcfg = payload_pb2.Remove.Config(skip_strict_exist_check=True)\n",
    "rreq = payload_pb2.Remove.Request(id=rid, config=rcfg)\n",
    "\n",
    "rstub.Remove(rreq)"
   ],
   "outputs": [],
   "metadata": {}
  },
  {
   "cell_type": "markdown",
   "source": [
    "データが削除されたかどうかを確認するため, Existを用いてデータが存在するかどうかをチェックします(データが存在しない場合Errorを返します)."
   ],
   "metadata": {}
  },
  {
   "cell_type": "code",
   "execution_count": null,
   "source": [
    "# Exists\n",
    "ostub = object_pb2_grpc.ObjectStub(channel)\n",
    "\n",
    "oid = payload_pb2.Object.ID(id=\"test\")\n",
    "try:\n",
    "    ostub.Exists(oid)\n",
    "except grpc._channel._InactiveRpcError as _:\n",
    "    print(\"vector is not found\")"
   ],
   "outputs": [],
   "metadata": {}
  },
  {
   "cell_type": "markdown",
   "source": [
    "以上が, Valdの基礎的な動作であるInsert/Search/Update/Removeを用いた検索の例です."
   ],
   "metadata": {}
  },
  {
   "cell_type": "markdown",
   "source": [
    "---"
   ],
   "metadata": {}
  },
  {
   "cell_type": "markdown",
   "source": [
    "## Advanced"
   ],
   "metadata": {}
  },
  {
   "cell_type": "markdown",
   "source": [
    "近似近傍探索を用いたテキスト検索の実験的な例として, 以下の内容を行います.\n",
    "\n",
    "- Word Analogies"
   ],
   "metadata": {}
  },
  {
   "cell_type": "markdown",
   "source": [
    "### Word Analogies"
   ],
   "metadata": {}
  },
  {
   "cell_type": "markdown",
   "source": [
    "単語のベクトル表現を用いて, 加法/減法を行い, 意味的に類似した単語を検索します.  \n",
    "例として, ”王\"-\"男\"+\"女\"=\"女王\"となるベクトル表現が得られ, \"女王\"に意味的に類似した単語が結果に含まれることを期待するテキスト検索を以下を示します. "
   ],
   "metadata": {}
  },
  {
   "cell_type": "code",
   "execution_count": null,
   "source": [
    "svec = vectors.query(\"王\") - vectors.query(\"男\") + vectors.query(\"女\")\n",
    "scfg = payload_pb2.Search.Config(num=10, radius=-1.0, epsilon=0.01, timeout=3000000000)\n",
    "sreq = payload_pb2.Search.Request(vector=svec, config=scfg)\n",
    "response = sstub.Search(sreq)\n",
    "\n",
    "pd.DataFrame(\n",
    "    [(result.id, result.distance) for result in response.results],\n",
    "    columns=[\"id\", \"distance\"])"
   ],
   "outputs": [],
   "metadata": {}
  },
  {
   "cell_type": "markdown",
   "source": [
    "また, 上記とは異なる例も示します(ref: [fastText tutorial#word-analogies](https://fasttext.cc/docs/en/unsupervised-tutorial.html#word-analogies))."
   ],
   "metadata": {}
  },
  {
   "cell_type": "code",
   "execution_count": null,
   "source": [
    "svec = vectors.query(\"psx\") - vectors.query(\"sony\") + vectors.query(\"nintendo\")\n",
    "scfg = payload_pb2.Search.Config(num=10, radius=-1.0, epsilon=0.01, timeout=3000000000)\n",
    "sreq = payload_pb2.Search.Request(vector=svec, config=scfg)\n",
    "response = sstub.Search(sreq)\n",
    "\n",
    "pd.DataFrame(\n",
    "    [(result.id, result.distance) for result in response.results],\n",
    "    columns=[\"id\", \"distance\"])"
   ],
   "outputs": [],
   "metadata": {}
  },
  {
   "cell_type": "markdown",
   "source": [
    "---"
   ],
   "metadata": {}
  },
  {
   "cell_type": "markdown",
   "source": [
    "以上で__\"Vald Similarity Search using chiVe Dataset\"__ notebookは終了です.  \n",
    "Valdに興味を持っていただきありがとうございました.\n",
    "\n",
    "更に詳しく知りたい方は, Githubやofficial web siteをご活用ください:\n",
    "- https://github.com/vdaas/vald\n",
    "- https://vald.vdaas.org/"
   ],
   "metadata": {}
  }
 ],
 "metadata": {
  "kernelspec": {
   "display_name": "Python 3",
   "language": "python",
   "name": "python3"
  },
  "language_info": {
   "codemirror_mode": {
    "name": "ipython",
    "version": 3
   },
   "file_extension": ".py",
   "mimetype": "text/x-python",
   "name": "python",
   "nbconvert_exporter": "python",
   "pygments_lexer": "ipython3",
   "version": "3.8.8"
  }
 },
 "nbformat": 4,
 "nbformat_minor": 5
}
